{
  "cells": [
    {
      "cell_type": "markdown",
      "metadata": {},
      "source": [
        "### Background \n",
        "\n",
        "This Jupyter notebook documents metrics related to Coverage discussed in the Zamzmi et al (2025) (Table 3). Congruence metrics include:\n",
        "* Variance\n",
        "* Entropy\n",
        "* Distance to centroid\n",
        "* Convex hull volume\n",
        "\n",
        "Zamzmi G, Subbaswamy A, Sizikova E, Margerrison E, Delfino JG, Badano A. Scorecard for synthetic medical data evaluation. Commun Eng. 2025 Jul 21;4(1):130. doi: 10.1038/s44172-025-00450-1. PMID: 40691520; PMCID: PMC12280076."
      ]
    },
    {
      "cell_type": "markdown",
      "metadata": {},
      "source": [
        "### Packages and Data-Loading"
      ]
    },
    {
      "cell_type": "code",
      "execution_count": 1,
      "metadata": {
        "id": "a9n-XLj0bpRu"
      },
      "outputs": [],
      "source": [
        "import os\n",
        "import numpy as np\n",
        "import pandas as pd\n",
        "\n",
        "FEATURE_DIR = 'outputs/features/'\n",
        "STATS_DIR = 'outputs/stats/'\n",
        "os.makedirs (STATS_DIR, exist_ok=True)"
      ]
    },
    {
      "cell_type": "code",
      "execution_count": 2,
      "metadata": {},
      "outputs": [
        {
          "name": "stdout",
          "output_type": "stream",
          "text": [
            "+-------------------------------------------------\n",
            "Extracted features for Mammo_medigan:\n",
            "        mean        std  skewness  kurtosis  median  edge_density  \\\n",
            "0  54.769627  62.823553  0.690815 -0.692438     0.0      0.081314   \n",
            "1  43.317745  66.921668  1.089029 -0.469780     0.0      0.061913   \n",
            "2  65.704037  87.302317  0.726333 -1.249385     0.0      0.076012   \n",
            "3  51.318485  66.329404  0.815744 -0.819561     0.0      0.088535   \n",
            "4  47.165154  64.650650  1.006616 -0.316069     0.0      0.072632   \n",
            "\n",
            "   avg_edge_intensity  low_freq_energy  high_freq_energy  betti_0  betti_1  \n",
            "0          114.065585     17567.931486      16654.733806     5762     9612  \n",
            "1          137.769686     11690.723656      10417.468763     3616     6303  \n",
            "2          164.581502     20160.990139      22240.616477     4303     8249  \n",
            "3          126.371020     14054.379624      14156.888580     4430     7846  \n",
            "4          116.558666     13089.991773      13015.086145     5154     8842  \n",
            "+-------------------------------------------------\n",
            "Extracted features for HuggingFace:\n",
            "        mean        std  skewness  kurtosis  median  edge_density  \\\n",
            "0  34.151978  45.228383  1.184451  0.303846     0.0      0.074173   \n",
            "1  44.705112  51.087387  0.990180  0.421383    36.0      0.115173   \n",
            "2  37.255623  51.744711  1.363599  1.009943     0.0      0.076283   \n",
            "3  34.193451  48.019234  1.575716  2.283334     0.0      0.067173   \n",
            "4  31.596985  49.107783  1.437830  0.804322     0.0      0.063484   \n",
            "\n",
            "   avg_edge_intensity  low_freq_energy  high_freq_energy  betti_0  betti_1  \n",
            "0           80.731742     58120.210234      60564.880512     5767    10124  \n",
            "1           85.852742     94376.125449      93764.156019     6743    11629  \n",
            "2           84.553683     79056.794829      76238.482834     5545     9377  \n",
            "3           82.228122     57327.045932      64469.536677     5563     9701  \n",
            "4           91.487622     65663.186322      67500.438701     4916     8409  \n",
            "+-------------------------------------------------\n",
            "Extracted features for MIAS:\n",
            "        mean        std  skewness  kurtosis  median  edge_density  \\\n",
            "0  67.175774  71.711043  0.378857 -1.465382    22.0      0.014656   \n",
            "1  45.827194  71.357165  1.268238  0.141652     0.0      0.018318   \n",
            "2  38.777081  82.994932  1.833184  1.525674     0.0      0.009720   \n",
            "3  53.893307  79.728630  1.150136 -0.288567     0.0      0.029613   \n",
            "4  57.803787  83.285122  0.881502 -1.066847     0.0      0.014641   \n",
            "\n",
            "   avg_edge_intensity  low_freq_energy  high_freq_energy  betti_0  betti_1  \n",
            "0          111.157210     20185.002868      20363.441800     4599     8430  \n",
            "1          149.609746     18192.536410      18456.524027     2730     5559  \n",
            "2          131.490581     12027.663482      11894.965248      966     1808  \n",
            "3          134.168620     20114.979602      20673.124343     2051     3973  \n",
            "4          114.318134     21112.258155      20605.402207     3170     5968  \n",
            "+-------------------------------------------------\n",
            "Extracted features for VinDr:\n",
            "         mean         std  skewness  kurtosis  median  edge_density  \\\n",
            "0   39.921417   62.872815  1.224765 -0.283839     3.0      0.047375   \n",
            "1   21.290958   48.697294  2.430874  4.266244     3.0      0.028004   \n",
            "2   25.777565   53.368501  2.086023  2.741712     3.0      0.031689   \n",
            "3  157.391315  109.001924 -0.464924 -1.528515   207.0      0.049438   \n",
            "4   51.252144   79.173923  1.057512 -0.837124     3.0      0.010242   \n",
            "\n",
            "   avg_edge_intensity  low_freq_energy  high_freq_energy  betti_0  betti_1  \n",
            "0          134.269990     25950.294325      26136.639308     2270     3583  \n",
            "1          134.242201     17777.160893      19406.172369     1247     1927  \n",
            "2          134.237029     19547.575591      19675.213719     1736     2737  \n",
            "3          129.521682     21368.252945      20312.628935     1807     2607  \n",
            "4          135.786220     20830.845021      22291.560687     2304     3570  \n",
            "+-------------------------------------------------\n",
            "Extracted features for DDSM:\n",
            "        mean        std  skewness  kurtosis  median  edge_density  \\\n",
            "0  32.749363  45.276062  1.019008 -0.178458     0.0      0.008286   \n",
            "1  40.985813  69.677860  1.413634  0.527893     0.0      0.029430   \n",
            "2  36.953457  66.859406  1.425834  0.269177     0.0      0.015190   \n",
            "3  46.793514  70.142194  1.006570 -0.718928     0.0      0.013840   \n",
            "4  14.267498  43.090224  3.043426  7.994265     0.0      0.014416   \n",
            "\n",
            "   avg_edge_intensity  low_freq_energy  high_freq_energy  betti_0  betti_1  \n",
            "0           63.360497     12462.269905      11938.471445     2701     4840  \n",
            "1          121.973169     16428.962578      16922.635620     1812     3468  \n",
            "2           88.254897     15111.380908      16167.327838     1544     2910  \n",
            "3           85.929162     20988.924383      19958.682265     2410     4613  \n",
            "4           88.166182     10769.348841      10209.517962      418      976  \n",
            "+-------------------------------------------------\n",
            "Extracted features for InBreast:\n",
            "        mean        std  skewness  kurtosis  median  edge_density  \\\n",
            "0  78.320457  72.171373  0.156248 -1.531114    96.0      0.112350   \n",
            "1  38.691261  54.800173  1.060323 -0.468828     3.0      0.040432   \n",
            "2  60.066597  70.891683  0.535984 -1.541936     3.0      0.051697   \n",
            "3  50.604309  73.537481  1.002319 -0.788642     3.0      0.068214   \n",
            "4  33.200417  47.654913  1.114664 -0.387930     3.0      0.029987   \n",
            "\n",
            "   avg_edge_intensity  low_freq_energy  high_freq_energy  betti_0  betti_1  \n",
            "0          137.697236     31340.755284      33739.350334     3910     6502  \n",
            "1          115.272762     21655.201865      22589.954289     2859     4501  \n",
            "2          142.061467     25225.281580      23045.511039     3928     6326  \n",
            "3          156.277094     35070.368972      37558.674009     2772     4719  \n",
            "4          101.484544     25008.589505      24508.521725     2879     4366  \n"
          ]
        }
      ],
      "source": [
        "# Define groups of synthetic and real datasets\n",
        "datasets = {'synthetic': ['Mammo_medigan', 'HuggingFace'],\n",
        "            'real': ['MIAS', 'VinDr', 'DDSM', 'InBreast']}\n",
        "\n",
        "# Load features for each dataset\n",
        "dataset_features = {}\n",
        "for _, dataset_names in datasets.items():\n",
        "    for dataset_name in dataset_names:\n",
        "        # If the feature csv file already exists, pull them out\n",
        "        feature_csv = FEATURE_DIR + f'/{dataset_name}_features.csv'\n",
        "        if os.path.exists (feature_csv):\n",
        "            dataset_df = pd.read_csv(feature_csv)\n",
        "            dataset_features[dataset_name] = dataset_df  \n",
        "\n",
        "# Print summary information \n",
        "for dataset_name, features_df in dataset_features.items():\n",
        "    print (\"+-------------------------------------------------\")\n",
        "    print(f\"Extracted features for {dataset_name}:\")\n",
        "    print(features_df.head())  "
      ]
    },
    {
      "cell_type": "markdown",
      "metadata": {},
      "source": [
        "### Metrics Functions"
      ]
    },
    {
      "cell_type": "code",
      "execution_count": 3,
      "metadata": {},
      "outputs": [],
      "source": [
        "from scipy.stats import entropy\n",
        "from scipy.spatial import ConvexHull\n",
        "from sklearn.decomposition import PCA\n",
        "from sklearn.metrics import pairwise_distances\n",
        "\n",
        "def normalize_features (features):\n",
        "    numerator = features - np.min(features, axis=0)\n",
        "    denominator = np.max(features, axis=0) - np.min(features, axis=0) + 1e-8\n",
        "    return numerator / denominator\n",
        "\n",
        "def get_variance (feature):\n",
        "\n",
        "    grand_mean = np.mean(feature)\n",
        "    # Sum of Squares Total (SS_Total)\n",
        "    ss_total = np.sum((feature - grand_mean)**2)\n",
        "    # Total degrees of freedom\n",
        "    n_total = len(feature)\n",
        "    df_total = n_total - 1\n",
        "    # Total variance\n",
        "    return ss_total / df_total\n",
        "\n",
        "def get_entropy (feature):\n",
        "\n",
        "    norm_features = feature / np.sum(feature)\n",
        "    shannon_entropy = entropy(norm_features)  \n",
        "    return shannon_entropy\n",
        "\n",
        "def get_distance_to_centroid (feature):\n",
        "\n",
        "    centroid = np.mean(feature, axis=0)\n",
        "    distances = pairwise_distances(feature, [centroid])\n",
        "    return np.mean(distances)\n",
        "\n",
        "def get_convex_hull_volume (feature):\n",
        "\n",
        "    pca = PCA(n_components=2)\n",
        "    reduced_features = pca.fit_transform(feature)\n",
        "    hull = ConvexHull(reduced_features)\n",
        "    return hull.volume\n",
        "\n",
        "def compute_coverage (feature):\n",
        "    \"\"\"\n",
        "    Each dataset has a value for each coverage metric\n",
        "\n",
        "    inputs\n",
        "    ------\n",
        "    feature (2D array): n_samples x n_features\n",
        "\n",
        "    outputs\n",
        "    -------\n",
        "    metric values (dict): values of all evaluation metrics\n",
        "    \"\"\"\n",
        "    \n",
        "    feature = normalize_features (feature.to_numpy())\n",
        "    vector = np.mean (feature, axis=0)\n",
        "\n",
        "    return {'variance': get_variance (feature),\n",
        "            'entropy': get_entropy (vector),\n",
        "            'distance_to_centroid': get_distance_to_centroid (feature),\n",
        "            'convex_hull_volume':get_convex_hull_volume (feature)}"
      ]
    },
    {
      "cell_type": "markdown",
      "metadata": {},
      "source": [
        "### Compute Metrics"
      ]
    },
    {
      "cell_type": "code",
      "execution_count": 4,
      "metadata": {},
      "outputs": [],
      "source": [
        "# Treat all handcrafted features as a 2D array.\n",
        "# Compute coverage metrics for each feature in each dataset \n",
        "coverage_metrics = {}\n",
        "for dataset_name, features_df in dataset_features.items():\n",
        "        coverage_metrics[dataset_name] = compute_coverage(features_df)"
      ]
    },
    {
      "cell_type": "code",
      "execution_count": 5,
      "metadata": {
        "colab": {
          "base_uri": "https://localhost:8080/"
        },
        "id": "-9IztOay2xIc",
        "outputId": "8aecbeed-f977-4b79-fbdd-d7be1713c231"
      },
      "outputs": [
        {
          "name": "stdout",
          "output_type": "stream",
          "text": [
            "Summary of Coverage Metrics by Dataset:\n",
            "         Dataset   Entropy  Distance to Centroid  Convex Hull Volume  Variance\n",
            "0  Mammo_medigan  2.256116              0.751953            2.732999  0.981819\n",
            "1    HuggingFace  2.346368              0.434012            2.143059  0.365485\n",
            "2           MIAS  2.274536              0.480027            2.361218  0.631394\n",
            "3          VinDr  2.337731              0.550505            3.058191  0.559795\n",
            "4           DDSM  2.058409              0.296223            1.365906  0.464890\n",
            "5       InBreast  2.293621              0.488011            2.621619  0.536168\n"
          ]
        }
      ],
      "source": [
        "# Save a summary DataFrame for the congruence metrics\n",
        "summary_list = []\n",
        "\n",
        "for dataset_name, metricdict in coverage_metrics.items():\n",
        "    summary_list.append({\n",
        "        'Dataset': dataset_name,        \n",
        "        'Entropy': metricdict['entropy'],\n",
        "        'Distance to Centroid': metricdict['distance_to_centroid'],\n",
        "        'Convex Hull Volume': metricdict['convex_hull_volume'],\n",
        "        'Variance': metricdict['variance']\n",
        "    })\n",
        "\n",
        "summary_df = pd.DataFrame(summary_list)\n",
        "\n",
        "# Save the summary to a CSV file\n",
        "summary_output_path = os.path.join(STATS_DIR, 'coverage_metrics_summary.csv')\n",
        "summary_df.to_csv(summary_output_path, index=False)\n",
        "\n",
        "# Print the summary table\n",
        "print(\"Summary of Coverage Metrics by Dataset:\")\n",
        "print(summary_df)\n"
      ]
    },
    {
      "cell_type": "markdown",
      "metadata": {},
      "source": [
        "### Example Usage"
      ]
    },
    {
      "cell_type": "code",
      "execution_count": 6,
      "metadata": {
        "colab": {
          "base_uri": "https://localhost:8080/"
        },
        "id": "2DdjAKD42aP_",
        "outputId": "1af6e2ca-fd70-4f56-9d23-634d7570e34c"
      },
      "outputs": [
        {
          "name": "stdout",
          "output_type": "stream",
          "text": [
            "+-----------------------------------------------\n",
            "| Mammo_medigan:\n",
            "|      - variance: 0.982\n",
            "|      - entropy: 2.256\n",
            "|      - distance_to_centroid: 0.752\n",
            "|      - convex_hull_volume: 2.733\n"
          ]
        }
      ],
      "source": [
        "dataset_name = 'Mammo_medigan'\n",
        "\n",
        "# Sample usage: Calculate metrics of a given dataset\n",
        "coverage = compute_coverage(dataset_features[dataset_name])\n",
        "\n",
        "print (\"+-----------------------------------------------\")\n",
        "print (f\"| {dataset_name}:\")\n",
        "for mname, value in coverage.items():\n",
        "    try:\n",
        "        value = f\"{value:.3f}\"\n",
        "    except: \n",
        "        value = 'n/a'\n",
        "    print (f\"|      - {mname}: {value}\")"
      ]
    },
    {
      "cell_type": "code",
      "execution_count": null,
      "metadata": {},
      "outputs": [],
      "source": []
    }
  ],
  "metadata": {
    "accelerator": "GPU",
    "colab": {
      "gpuType": "T4",
      "machine_shape": "hm",
      "provenance": []
    },
    "kernelspec": {
      "display_name": ".venvSyIDE",
      "language": "python",
      "name": "python3"
    },
    "language_info": {
      "codemirror_mode": {
        "name": "ipython",
        "version": 3
      },
      "file_extension": ".py",
      "mimetype": "text/x-python",
      "name": "python",
      "nbconvert_exporter": "python",
      "pygments_lexer": "ipython3",
      "version": "3.12.8"
    }
  },
  "nbformat": 4,
  "nbformat_minor": 0
}
