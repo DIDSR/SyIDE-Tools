{
  "cells": [
    {
      "cell_type": "markdown",
      "metadata": {},
      "source": [
        "### Background \n",
        "\n",
        "This Jupyter notebook documents metrics related to Congruence discussed in the Zamzmi et al (2025) (Table 3). Congruence metrics include:\n",
        "* Structural Similarity Index Measure (SSIM)\n",
        "* Peak Signal-to-Noise Ratio (PSNR)\n",
        "* Jensen-Shannon Divergence (JSD)\n",
        "* Earth Mover’s Distance (EMD)\n",
        "* Cosine Similarity\n",
        "\n",
        "Zamzmi G, Subbaswamy A, Sizikova E, Margerrison E, Delfino JG, Badano A. Scorecard for synthetic medical data evaluation. Commun Eng. 2025 Jul 21;4(1):130. doi: 10.1038/s44172-025-00450-1. PMID: 40691520; PMCID: PMC12280076."
      ]
    },
    {
      "cell_type": "markdown",
      "metadata": {},
      "source": [
        "### Packages and Data-Loading"
      ]
    },
    {
      "cell_type": "code",
      "execution_count": 1,
      "metadata": {
        "id": "a9n-XLj0bpRu"
      },
      "outputs": [],
      "source": [
        "import os\n",
        "import numpy as np\n",
        "import pandas as pd\n",
        "\n",
        "FEATURE_DIR = 'outputs/features/'\n",
        "STATS_DIR = 'outputs/stats/'\n",
        "os.makedirs (STATS_DIR, exist_ok=True)"
      ]
    },
    {
      "cell_type": "code",
      "execution_count": 2,
      "metadata": {},
      "outputs": [],
      "source": [
        "# Define groups of synthetic and real datasets\n",
        "datasets = {'synthetic': ['Mammo_medigan', 'HuggingFace'],\n",
        "            'real': ['MIAS', 'VinDr', 'DDSM', 'InBreast']}\n",
        "\n",
        "# Load features for each dataset\n",
        "dataset_features = {}\n",
        "for _, dataset_names in datasets.items():\n",
        "    for dataset_name in dataset_names:\n",
        "        # If the feature csv file already exists, pull them out\n",
        "        feature_csv = FEATURE_DIR + f'/{dataset_name}_features.csv'\n",
        "        if os.path.exists (feature_csv):\n",
        "            dataset_df = pd.read_csv(feature_csv)\n",
        "            dataset_features[dataset_name] = dataset_df  \n",
        "\n",
        "# Print summary information \n",
        "for dataset_name, features_df in dataset_features.items():\n",
        "    print (\"+-------------------------------------------------\")\n",
        "    print(f\"Extracted features for {dataset_name}:\")\n",
        "    print(features_df.head())  "
      ]
    },
    {
      "cell_type": "markdown",
      "metadata": {},
      "source": [
        "### Metrics Functions"
      ]
    },
    {
      "cell_type": "code",
      "execution_count": 3,
      "metadata": {},
      "outputs": [],
      "source": [
        "from scipy.spatial.distance import (\n",
        "    cosine as sk_cosine_distance,\n",
        "    jensenshannon\n",
        ")\n",
        "from scipy.stats import wasserstein_distance\n",
        "from skimage.metrics import structural_similarity as ssim\n",
        "from skimage.metrics import peak_signal_noise_ratio as psnr\n",
        "\n",
        "def normalize_features (features):\n",
        "    features = features[np.isfinite(features)]\n",
        "    numerator = features - np.min(features, axis=0)\n",
        "    denominator = np.max(features, axis=0) - np.min(features, axis=0) + 1e-8\n",
        "    return numerator / denominator\n",
        "\n",
        "def random_sampling (array, size, replace=False, seed=None):\n",
        "    np.random.default_rng(seed)\n",
        "    idx = np.random.choice(array.shape[0], size, replace=replace)\n",
        "    return array[idx]\n",
        "\n",
        "def get_cosine_similarity (r, s):\n",
        "    \"\"\"\n",
        "    inputs\n",
        "    ------\n",
        "    r (1D array): 1 x n_features; each element is mean from all real images\n",
        "    s (1D array): 1 x n_features; each element is mean from all synthetic images\n",
        "\n",
        "    outputs\n",
        "    -------\n",
        "    cosine similarity (float): value of the metric\n",
        "    \"\"\"\n",
        "    return float (1 - sk_cosine_distance(r, s))\n",
        "\n",
        "def get_jensen_shannon_divergence (r, s):\n",
        "    \"\"\"\n",
        "    inputs\n",
        "    ------\n",
        "    r (1D array): 1 x n_features; each element is mean from all real images\n",
        "    s (1D array): 1 x n_features; each element is mean from all synthetic images\n",
        "\n",
        "    outputs\n",
        "    -------\n",
        "    jensen_shannon_divergence (float): value of the metric\n",
        "    \"\"\"                 \n",
        "    rn = r/r.sum() if r.sum() else r\n",
        "    sn = s/s.sum() if s.sum() else s\n",
        "    return float (jensenshannon (rn, sn, base=2.0)**2)\n",
        "\n",
        "def get_earth_movers_distance (r, s): \n",
        "    \"\"\"\n",
        "    inputs\n",
        "    ------\n",
        "    r (1D array): 1 x n_features; each element is mean from all real images\n",
        "    s (1D array): 1 x n_features; each element is mean from all synthetic images\n",
        "\n",
        "    outputs\n",
        "    -------\n",
        "    earth movers distance (float): value of the metric\n",
        "    \"\"\"        \n",
        "    return float (wasserstein_distance (r,s))\n",
        "\n",
        "def compute_congruence (r, s, sampling=False, replace=False,\n",
        "                        seed=42, is_image_feature=False):\n",
        "    \"\"\"\n",
        "    For congruence, there must be real-synthetic pair.\n",
        "\n",
        "    inputs\n",
        "    ------\n",
        "    r (1D array): 1 x n_features; each element is mean from all real images\n",
        "    s (1D array): 1 x n_features; each element is mean from all synthetic images\n",
        "    is_image_feature (bool): True if the feature is related to image pixel intensities\n",
        "\n",
        "    outputs\n",
        "    -------\n",
        "    metric values (dict): values of all evaluation metrics\n",
        "    \"\"\"\n",
        "\n",
        "    r = normalize_features (r)\n",
        "    s = normalize_features (s)\n",
        "\n",
        "    if sampling:\n",
        "        size = min(r.shape[0], s.shape[0])\n",
        "        r = random_sampling (r, size, replace=replace, seed=seed)\n",
        "        s = random_sampling (s, size, replace=replace, seed=seed) \n",
        "\n",
        "    ssim_value, psnr_value = None, None\n",
        "    if is_image_feature:\n",
        "        ssim_value = ssim (r, s, data_range=1.0)\n",
        "        psnr_value = psnr (r, s)\n",
        "    \n",
        "    return {'cosine_similarity': get_cosine_similarity (r, s),\n",
        "            'jensen_shannon_divergence': get_jensen_shannon_divergence (r, s),\n",
        "            'earth_movers_distance': get_earth_movers_distance (r, s),\n",
        "            'ssim':ssim_value, 'psnr':psnr_value}"
      ]
    },
    {
      "cell_type": "markdown",
      "metadata": {},
      "source": [
        "### Compute Metrics"
      ]
    },
    {
      "cell_type": "code",
      "execution_count": 6,
      "metadata": {},
      "outputs": [
        {
          "ename": "KeyError",
          "evalue": "'VinDr'",
          "output_type": "error",
          "traceback": [
            "\u001b[31m---------------------------------------------------------------------------\u001b[39m",
            "\u001b[31mKeyError\u001b[39m                                  Traceback (most recent call last)",
            "\u001b[36mCell\u001b[39m\u001b[36m \u001b[39m\u001b[32mIn[6]\u001b[39m\u001b[32m, line 1\u001b[39m\n\u001b[32m----> \u001b[39m\u001b[32m1\u001b[39m FEATURE_COLUMNS = \u001b[43mdataset_features\u001b[49m\u001b[43m[\u001b[49m\u001b[33;43m'\u001b[39;49m\u001b[33;43mVinDr\u001b[39;49m\u001b[33;43m'\u001b[39;49m\u001b[43m]\u001b[49m.columns\n\u001b[32m      2\u001b[39m IMAGE_FEATURES = [\u001b[33m'\u001b[39m\u001b[33mmean\u001b[39m\u001b[33m'\u001b[39m, \u001b[33m'\u001b[39m\u001b[33mstd\u001b[39m\u001b[33m'\u001b[39m, \u001b[33m'\u001b[39m\u001b[33mskewness\u001b[39m\u001b[33m'\u001b[39m, \u001b[33m'\u001b[39m\u001b[33mkurtosis\u001b[39m\u001b[33m'\u001b[39m, \u001b[33m'\u001b[39m\u001b[33mmedian\u001b[39m\u001b[33m'\u001b[39m]\n\u001b[32m      4\u001b[39m \u001b[38;5;66;03m# Compute congruence metrics for each feature in each synthetic-real dataset pair\u001b[39;00m\n",
            "\u001b[31mKeyError\u001b[39m: 'VinDr'"
          ]
        }
      ],
      "source": [
        "FEATURE_COLUMNS = dataset_features['VinDr'].columns\n",
        "IMAGE_FEATURES = ['mean', 'std', 'skewness', 'kurtosis', 'median']\n",
        "\n",
        "# Compute congruence metrics for each feature in each synthetic-real dataset pair\n",
        "congruence_metrics = {}\n",
        "for real in datasets['real']:\n",
        "    for synthetic in datasets['synthetic']:\n",
        "        congruence_metrics[(synthetic, real)] = {}\n",
        "        for feature in FEATURE_COLUMNS:\n",
        "            congruence_metrics[(synthetic, real)][feature] = {}\n",
        "            r = dataset_features[real][feature].values\n",
        "            s = dataset_features[synthetic][feature].values\n",
        "            is_image_feature = feature in IMAGE_FEATURES\n",
        "            congruence_metrics[(synthetic, real)][feature] = compute_congruence(r, s, sampling=True, replace=False,\n",
        "                                                                                is_image_feature=is_image_feature)\n"
      ]
    },
    {
      "cell_type": "code",
      "execution_count": null,
      "metadata": {
        "colab": {
          "base_uri": "https://localhost:8080/"
        },
        "id": "-9IztOay2xIc",
        "outputId": "8aecbeed-f977-4b79-fbdd-d7be1713c231"
      },
      "outputs": [
        {
          "name": "stdout",
          "output_type": "stream",
          "text": [
            "Summary of Congruence Metrics by Synthetic-Real Dataset Pair:\n",
            "   Synthetic Dataset Real Dataset             Feature       EMD  \\\n",
            "0      Mammo_medigan         MIAS                mean  0.101217   \n",
            "1      Mammo_medigan         MIAS                 std  0.121064   \n",
            "2      Mammo_medigan         MIAS            skewness  0.101180   \n",
            "3      Mammo_medigan         MIAS            kurtosis  0.174726   \n",
            "4      Mammo_medigan         MIAS              median       NaN   \n",
            "..               ...          ...                 ...       ...   \n",
            "83       HuggingFace     InBreast  avg_edge_intensity  0.067638   \n",
            "84       HuggingFace     InBreast     low_freq_energy  0.039387   \n",
            "85       HuggingFace     InBreast    high_freq_energy  0.052083   \n",
            "86       HuggingFace     InBreast             betti_0  0.047744   \n",
            "87       HuggingFace     InBreast             betti_1  0.042275   \n",
            "\n",
            "    Cosine Similarity       JSD      SSIM       PSNR  \n",
            "0            0.789133  0.101217  0.022822  10.180968  \n",
            "1            0.758030  0.121064  0.050476  10.068919  \n",
            "2            0.815178  0.101180  0.048759   8.566474  \n",
            "3            0.678415  0.174726  0.042395   7.931291  \n",
            "4                 NaN       NaN  0.092118  15.580728  \n",
            "..                ...       ...       ...        ...  \n",
            "83           0.864480  0.067638       NaN        NaN  \n",
            "84           0.907504  0.039387       NaN        NaN  \n",
            "85           0.883378  0.052083       NaN        NaN  \n",
            "86           0.889994  0.047744       NaN        NaN  \n",
            "87           0.898078  0.042275       NaN        NaN  \n",
            "\n",
            "[88 rows x 8 columns]\n"
          ]
        }
      ],
      "source": [
        "# Save a summary DataFrame for the congruence metrics\n",
        "summary_list = []\n",
        "\n",
        "for (synthetic, real), metricdict in congruence_metrics.items():\n",
        "    for feature, values in metricdict.items():\n",
        "        summary_list.append({\n",
        "            'Synthetic Dataset': synthetic,\n",
        "            'Real Dataset': real,\n",
        "            'Feature': feature,\n",
        "            'EMD': values['jensen_shannon_divergence'],\n",
        "            'Cosine Similarity': values['cosine_similarity'],\n",
        "            'JSD': values['jensen_shannon_divergence'],\n",
        "            'SSIM': values['ssim'],\n",
        "            'PSNR': values['psnr']\n",
        "        })\n",
        "\n",
        "summary_df = pd.DataFrame(summary_list)\n",
        "\n",
        "# Save the summary to a CSV file\n",
        "summary_output_path = os.path.join(STATS_DIR, 'congruence_metrics_summary.csv')\n",
        "summary_df.to_csv(summary_output_path, index=False)\n",
        "\n",
        "# Print the summary table\n",
        "print(\"Summary of Congruence Metrics by Synthetic-Real Dataset Pair:\")\n",
        "print(summary_df)\n"
      ]
    },
    {
      "cell_type": "markdown",
      "metadata": {},
      "source": [
        "### Example Usage"
      ]
    },
    {
      "cell_type": "code",
      "execution_count": 5,
      "metadata": {
        "colab": {
          "base_uri": "https://localhost:8080/"
        },
        "id": "2DdjAKD42aP_",
        "outputId": "1af6e2ca-fd70-4f56-9d23-634d7570e34c"
      },
      "outputs": [
        {
          "ename": "NameError",
          "evalue": "name 'FEATURE_COLUMNS' is not defined",
          "output_type": "error",
          "traceback": [
            "\u001b[31m---------------------------------------------------------------------------\u001b[39m",
            "\u001b[31mNameError\u001b[39m                                 Traceback (most recent call last)",
            "\u001b[36mCell\u001b[39m\u001b[36m \u001b[39m\u001b[32mIn[5]\u001b[39m\u001b[32m, line 7\u001b[39m\n\u001b[32m      5\u001b[39m \u001b[38;5;66;03m# Sample usage: Calculate metrics between matched real and synthetic datasets\u001b[39;00m\n\u001b[32m      6\u001b[39m congruence = {}\n\u001b[32m----> \u001b[39m\u001b[32m7\u001b[39m \u001b[38;5;28;01mfor\u001b[39;00m feature \u001b[38;5;129;01min\u001b[39;00m \u001b[43mFEATURE_COLUMNS\u001b[49m:\n\u001b[32m      8\u001b[39m     real = dataset_features[real][feature]\n\u001b[32m      9\u001b[39m     synthetic = dataset_features[synthetic][feature]\n",
            "\u001b[31mNameError\u001b[39m: name 'FEATURE_COLUMNS' is not defined"
          ]
        }
      ],
      "source": [
        "# List of real dataset names\n",
        "synthetic = 'MSYNTH'\n",
        "real = 'DDSM'\n",
        "\n",
        "# Sample usage: Calculate metrics between matched real and synthetic datasets\n",
        "congruence = {}\n",
        "for feature in FEATURE_COLUMNS:\n",
        "    real = dataset_features[real][feature]\n",
        "    synthetic = dataset_features[synthetic][feature]\n",
        "    is_image_feature = feature in IMAGE_FEATURES\n",
        "    congruence[feature] = compute_congruence (real, synthetic, sampling=True,\n",
        "                                              replace=False,\n",
        "                                              is_image_feature=is_image_feature)\n",
        "\n",
        "    print (\"+-----------------------------------------------\")\n",
        "    print (f\"| {feature}:\")\n",
        "    for metric, value in congruence[feature].items():\n",
        "        try:\n",
        "            value = f\"{value:.3f}\"\n",
        "        except: \n",
        "            value = 'n/a'\n",
        "        print (f\"|      - {metric}: {value}\")"
      ]
    },
    {
      "cell_type": "code",
      "execution_count": null,
      "metadata": {},
      "outputs": [],
      "source": []
    }
  ],
  "metadata": {
    "accelerator": "GPU",
    "colab": {
      "gpuType": "T4",
      "machine_shape": "hm",
      "provenance": []
    },
    "kernelspec": {
      "display_name": ".venv",
      "language": "python",
      "name": "python3"
    },
    "language_info": {
      "codemirror_mode": {
        "name": "ipython",
        "version": 3
      },
      "file_extension": ".py",
      "mimetype": "text/x-python",
      "name": "python",
      "nbconvert_exporter": "python",
      "pygments_lexer": "ipython3",
      "version": "3.12.8"
    }
  },
  "nbformat": 4,
  "nbformat_minor": 0
}
